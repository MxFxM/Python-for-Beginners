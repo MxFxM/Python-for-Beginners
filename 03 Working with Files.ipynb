{
 "cells": [
  {
   "cell_type": "code",
   "execution_count": 1,
   "metadata": {},
   "outputs": [
    {
     "data": {
      "text/plain": [
       "9"
      ]
     },
     "execution_count": 1,
     "metadata": {},
     "output_type": "execute_result"
    }
   ],
   "source": [
    "fout = open(\"03 names.csv\", mode='w', encoding='utf8')\n",
    "fout.write(\"name,age\\n\") # returns number of written bytes"
   ]
  },
  {
   "cell_type": "code",
   "execution_count": 3,
   "metadata": {},
   "outputs": [
    {
     "data": {
      "text/plain": [
       "7"
      ]
     },
     "execution_count": 3,
     "metadata": {},
     "output_type": "execute_result"
    }
   ],
   "source": [
    "fout.write(\"max,23\")\n",
    "fout.write(\"adam,21\")"
   ]
  },
  {
   "cell_type": "code",
   "execution_count": 4,
   "metadata": {},
   "outputs": [],
   "source": [
    "fout.close()"
   ]
  },
  {
   "cell_type": "code",
   "execution_count": 6,
   "metadata": {},
   "outputs": [],
   "source": [
    "with open(\"03 names.csv\", mode='w', encoding='utf8') as fout:\n",
    "    fout.write(\"troll,12\")\n",
    "\n",
    "# closes automatically when leaving the indent"
   ]
  },
  {
   "cell_type": "code",
   "execution_count": 7,
   "metadata": {},
   "outputs": [
    {
     "name": "stdout",
     "output_type": "stream",
     "text": [
      "['_CHUNK_SIZE', '__class__', '__del__', '__delattr__', '__dict__', '__dir__', '__doc__', '__enter__', '__eq__', '__exit__', '__format__', '__ge__', '__getattribute__', '__gt__', '__hash__', '__init__', '__init_subclass__', '__iter__', '__le__', '__lt__', '__ne__', '__new__', '__next__', '__reduce__', '__reduce_ex__', '__repr__', '__setattr__', '__sizeof__', '__str__', '__subclasshook__', '_checkClosed', '_checkReadable', '_checkSeekable', '_checkWritable', '_finalizing', 'buffer', 'close', 'closed', 'detach', 'encoding', 'errors', 'fileno', 'flush', 'isatty', 'line_buffering', 'mode', 'name', 'newlines', 'read', 'readable', 'readline', 'readlines', 'reconfigure', 'seek', 'seekable', 'tell', 'truncate', 'writable', 'write', 'write_through', 'writelines']\n"
     ]
    }
   ],
   "source": [
    "print(dir(fout)) # inspect attributes"
   ]
  },
  {
   "cell_type": "code",
   "execution_count": 10,
   "metadata": {},
   "outputs": [
    {
     "name": "stdout",
     "output_type": "stream",
     "text": [
      "troll,12\n"
     ]
    }
   ],
   "source": [
    "with open(\"03 names.csv\", encoding='utf8') as fin:\n",
    "    data = fin.read()\n",
    "\n",
    "print(data)\n",
    "\n",
    "# note that we did not append earlier?!"
   ]
  },
  {
   "cell_type": "code",
   "execution_count": 12,
   "metadata": {},
   "outputs": [
    {
     "name": "stdout",
     "output_type": "stream",
     "text": [
      "b't'\n"
     ]
    }
   ],
   "source": [
    "with open(\"03 names.csv\", mode='rb') as fin:\n",
    "    # opened as binary file, does not care about the encoding\n",
    "    one_byte = fin.read(1)\n",
    "    ten_bytes = fin.read(10) # the file is not this long!\n",
    "\n",
    "print(one_byte)"
   ]
  },
  {
   "cell_type": "code",
   "execution_count": 13,
   "metadata": {},
   "outputs": [
    {
     "name": "stdout",
     "output_type": "stream",
     "text": [
      "b'roll,12'\n"
     ]
    }
   ],
   "source": [
    "print(ten_bytes)\n",
    "# note that the one byte has already gone by while it was read"
   ]
  },
  {
   "cell_type": "code",
   "execution_count": 14,
   "metadata": {},
   "outputs": [
    {
     "name": "stdout",
     "output_type": "stream",
     "text": [
      "roll,12\n"
     ]
    }
   ],
   "source": [
    "print(ten_bytes.decode('utf8'))"
   ]
  },
  {
   "cell_type": "code",
   "execution_count": 16,
   "metadata": {},
   "outputs": [
    {
     "name": "stdout",
     "output_type": "stream",
     "text": [
      "name,age\n",
      "max,23\n",
      "adam,21\n",
      "\n"
     ]
    }
   ],
   "source": [
    "with open(\"03 names.csv\", mode='w', encoding='utf8') as fout:\n",
    "    fout.write(\"name,age\\n\")\n",
    "\n",
    "# now with append mode\n",
    "with open(\"03 names.csv\", mode='a', encoding='utf8') as fout:\n",
    "    fout.write(\"max,23\\n\")\n",
    "    fout.write(\"adam,21\\n\")\n",
    "\n",
    "# test\n",
    "with open(\"03 names.csv\", mode='r', encoding='utf8') as fin:\n",
    "    print(fin.read())"
   ]
  }
 ],
 "metadata": {
  "interpreter": {
   "hash": "e7370f93d1d0cde622a1f8e1c04877d8463912d04d973331ad4851f04de6915a"
  },
  "kernelspec": {
   "display_name": "Python 3.9.7 64-bit",
   "name": "python3"
  },
  "language_info": {
   "codemirror_mode": {
    "name": "ipython",
    "version": 3
   },
   "file_extension": ".py",
   "mimetype": "text/x-python",
   "name": "python",
   "nbconvert_exporter": "python",
   "pygments_lexer": "ipython3",
   "version": "3.9.7"
  },
  "orig_nbformat": 4
 },
 "nbformat": 4,
 "nbformat_minor": 2
}
